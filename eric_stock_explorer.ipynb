{
  "nbformat": 4,
  "nbformat_minor": 0,
  "metadata": {
    "colab": {
      "name": "eric_stock_explorer.ipynb",
      "provenance": [],
      "collapsed_sections": [
        "l7PvArq5S_6I",
        "5GciRRbFFxRO",
        "rANHHDBIofwr",
        "LfJNGU2O1Z_w",
        "ACw1SatH2Ouc",
        "XLmuLXcJWpC8",
        "MDc5KatookRO",
        "FhQsGKknoopa",
        "Loea3tG-T7wY",
        "40RvmgSmUD4Z",
        "l4s-N1nFEK4e",
        "iojt878qV0tu",
        "6xKkSJAMWmCA",
        "VjAQTk2uksRv",
        "2KBShF_xwGIF",
        "Nh8cv5vVgPUW",
        "QfHohM_slHOO",
        "qcmebVl1oEfs",
        "SX3IeNvxkB2o",
        "fjwoKOboLitG"
      ],
      "authorship_tag": "ABX9TyNuYwjJsf3ib/OhOodhViKC",
      "include_colab_link": true
    },
    "kernelspec": {
      "name": "python3",
      "display_name": "Python 3"
    },
    "language_info": {
      "name": "python"
    }
  },
  "cells": [
    {
      "cell_type": "markdown",
      "metadata": {
        "id": "view-in-github",
        "colab_type": "text"
      },
      "source": [
        "<a href=\"https://colab.research.google.com/github/uprotom/espp/blob/main/eric_stock_explorer.ipynb\" target=\"_parent\"><img src=\"https://colab.research.google.com/assets/colab-badge.svg\" alt=\"Open In Colab\"/></a>"
      ]
    },
    {
      "cell_type": "markdown",
      "source": [
        "---\n",
        "DISCLAIMER: Not a single thing here is financial advice and definitely not  *professional*. \n",
        "\n",
        "---\n",
        "\n",
        "What is done here is running scenarios on historical data.\n",
        "\n",
        "Do your *own* analysis and take your *own* decisions before investing any of your money into anything.\n",
        "\n",
        "This includes ESPP.\n",
        "\n",
        "Have fun."
      ],
      "metadata": {
        "id": "abtQwtKfXo2J"
      }
    },
    {
      "cell_type": "markdown",
      "source": [
        "# 1. Data preparation and Configuration \n"
      ],
      "metadata": {
        "id": "l7PvArq5S_6I"
      }
    },
    {
      "cell_type": "markdown",
      "source": [
        "## 1.1 Load data\n",
        "Load clean combined stock and currency data from a manually prepared csv file stored on github"
      ],
      "metadata": {
        "id": "MMbqrgrpYF58"
      }
    },
    {
      "cell_type": "code",
      "execution_count": null,
      "metadata": {
        "id": "Yacf_9Ti3LKG"
      },
      "outputs": [],
      "source": [
        "import pandas as pd\n",
        "import altair as alt\n",
        "\n",
        "#bf : base data frame, has all datapoints\n",
        "bf = pd.read_csv(\"https://raw.githubusercontent.com/uprotom/espp/main/eri_stock_sekpln.csv\")"
      ]
    },
    {
      "cell_type": "markdown",
      "source": [
        "## 1.2 Set configuration\n",
        "Set your own values of monthly investment, company contribution and Computershare fees or use the defauls.\n",
        "\n",
        "It is also possible to select the stock price type when buying."
      ],
      "metadata": {
        "id": "nuNcXdQEgL0K"
      }
    },
    {
      "cell_type": "code",
      "source": [
        "#@title Modify default values:\n",
        "\n",
        "cfg = {\n",
        "}\n",
        "\n",
        "def storeConfig():\n",
        "  #@markdown Monthly investment (PLN) : equals approx 250-4166 SEK\n",
        "  monthlyInvestment = 1000 #@param {type:\"slider\", min:110, max:1820, step:10}\n",
        "\n",
        "  #@markdown Company contribution [%]\n",
        "  companyContribution = 15 #@param {type: \"number\"}\n",
        "\n",
        "  #@markdown Computershare buy fee [%]\n",
        "  buyFee = 0.2  #@param {type: \"number\"}\n",
        "\n",
        "  #@markdown Computershare sell fees [% / SEK] (whichever is highest)\n",
        "  sellFee = 0.25 #@param {type: \"number\"}\n",
        "  sellFeeFlat = 150 #@param {type: \"number\"} \n",
        "\n",
        "  #@markdown Which stock price to use when buying (@market open, close, average or high/low)\n",
        "  buyType = \"average\"  #@param ['open', 'close', 'high', 'low', 'average']\n",
        "\n",
        "  cfg['monthlyInvestment'] = monthlyInvestment\n",
        "  cfg['monthlyInvestmentPostFee'] = (1 - buyFee / 100) * monthlyInvestment\n",
        "  cfg['companyContribution'] = monthlyInvestment * companyContribution / 100\n",
        "  cfg['buyFee'] = buyFee / 100\n",
        "  cfg['sellFee'] = sellFee / 100\n",
        "  cfg['sellFeeFlat'] = sellFeeFlat\n",
        "  cfg['buyType'] = buyType\n",
        "  # ranges for graphs:\n",
        "  cfg['5years'] = -62\n",
        "  cfg['3years'] = -38\n",
        "  cfg['1year'] = -14\n",
        "\n",
        "storeConfig()"
      ],
      "metadata": {
        "id": "U-64UOGygcTx"
      },
      "execution_count": null,
      "outputs": []
    },
    {
      "cell_type": "markdown",
      "source": [
        "## 1.3 Basic pre-calculations\n",
        "\n",
        "Calculate the number of shares than can be bought each month given the declared monthly investment, buy fee, share price and SEK/PLN rate.\n",
        "\n",
        "Buying date is every 15th day of each month (or first business day just after that date). All other days should remain at 0."
      ],
      "metadata": {
        "id": "AaJ-61E3nA50"
      }
    },
    {
      "cell_type": "code",
      "source": [
        "def findBuyDays():\n",
        "  # pre-fill with number of shares = 0\n",
        "  bf['buyShares'] = 0\n",
        "  bf['companyContribution'] = 0\n",
        "\n",
        "  # calculate/set sellPrices for all days based on the configured price type:\n",
        "  if cfg['buyType'] == \"open\":\n",
        "    bf['buySellPrice'] = bf['Open']\n",
        "  elif cfg['buyType'] == \"close\":\n",
        "    bf['buySellPrice'] = bf['Close']\n",
        "  elif cfg['buyType'] == \"average\":\n",
        "    bf['buySellPrice'] = (bf['Open'] + bf['Close']) / 2\n",
        "  elif cfg['buyType'] == \"high\":\n",
        "    bf['buySellPrice'] = bf['High']\n",
        "  else:\n",
        "    bf['buySellPrice'] = bf['Low']\n",
        "\n",
        "  # set starting data for search loop\n",
        "  counter = 0\n",
        "  prevMonth = -1\n",
        "\n",
        "  # iterate through all rows to fill in the number of shares on buy dates\n",
        "  for index in bf.index:\n",
        "\n",
        "    # clear foundBuyDate flag and set new latest month at month change\n",
        "    if bf.loc[index, 'Date'].month != prevMonth:\n",
        "      prevMonth = bf.loc[index, 'Date'].month\n",
        "      foundBuyDate = False\n",
        "\n",
        "    if bf.loc[index, 'Date'].day >= 15:\n",
        "      if foundBuyDate == False:\n",
        "        #debug: print(\"found a new buy date\", bf.loc[index, 'Date'])\n",
        "        foundBuyDate = True\n",
        "        counter += 1\n",
        "        bf.loc[index, 'companyContribution'] = cfg['companyContribution']\n",
        "        bf.loc[index, 'buyShares'] = cfg['monthlyInvestmentPostFee'] / bf.loc[index, 'SekPln'] / bf.loc[index, 'buySellPrice']\n",
        "\n",
        "  print(\"Found \", counter, \" buy days in the dataset\")\n",
        "\n",
        "\n",
        "# parse dates from text format to dates\n",
        "bf['Date'] = pd.to_datetime(bf['Date'],dayfirst=True)\n",
        "\n",
        "#df : locate buy dates and create a filtered data frame with only buy dates to speed up most calculations\n",
        "findBuyDays()\n",
        "\n",
        "df = bf.loc[bf[\"buyShares\"] > 0,[\"Date\",\"SekPln\",\"buySellPrice\",\"buyShares\",\"companyContribution\"]]\n",
        "df = df.reset_index()"
      ],
      "metadata": {
        "id": "CQ-BqTnsxM1a"
      },
      "execution_count": null,
      "outputs": []
    },
    {
      "cell_type": "markdown",
      "source": [
        "# 2. Scenario exploration\n",
        "\n",
        "In this section we will explore a couple of different approaches to the ESPP. \n",
        "\n",
        "The aim is to evaluate their real-life performance based on the historical stock price and currency exchange rates. \n",
        "\n",
        "All models will follow the buy dates (set on 15th of every month, or the first following business days).\n",
        "Models will only differ in when they recommend to sell the stock (some more than once).\n",
        "\n",
        "The resulting *value* is calculated per model for all starting days in the dataset. Which means we will get at least 266 results per each approach.\n",
        "\n",
        "*Note: some results might be different depending on the size of monthly investment. e.g. Buy & Sell model from 2.1 has a better return rate for larger values*"
      ],
      "metadata": {
        "id": "_qiv930yVJ3d"
      }
    },
    {
      "cell_type": "markdown",
      "source": [
        "## 2.0 Do not invest in ESPP\n",
        "\n",
        "pros: no risk\n",
        "\n",
        "cons: no gains\n",
        "\n",
        "Simplest approach first. Any other model will have to beat this approach to be viable.\n",
        "\n",
        "Resulting value is calculated as number of buying periods from the starting date to the end of the range."
      ],
      "metadata": {
        "id": "5GciRRbFFxRO"
      }
    },
    {
      "cell_type": "markdown",
      "source": [
        "### 2.0.1 Code"
      ],
      "metadata": {
        "id": "rANHHDBIofwr"
      }
    },
    {
      "cell_type": "code",
      "source": [
        "df['valNoInvestment'] = 0\n",
        "\n",
        "# to simplify calculations iterate in reverse order and take the previous result as input to the next step\n",
        "# add full monthly investment value on buyDays\n",
        "for index in df.index[df.buyShares != 0][::-1]:\n",
        "    df.loc[index, 'valNoInvestment'] = df.loc[min(df.index.max(),index + 1), 'valNoInvestment'] + cfg['monthlyInvestment']\n"
      ],
      "metadata": {
        "id": "FmrOIUbSGmQO"
      },
      "execution_count": null,
      "outputs": []
    },
    {
      "cell_type": "markdown",
      "source": [
        "## 2.1 Invest and sell immediately after\n",
        "\n",
        "pros: \n",
        "* very low risk\n",
        "* still get the company contribution bonus\n",
        "\n",
        "cons: \n",
        "* relatively small gains as the flat fee eats a big part of company contribution\n",
        "\n",
        "Second simplest approach. Should be better than not participating depending on the monthly investment size.\n",
        "Any other model will have to beat this one too to be viable.\n",
        "\n",
        "Resulting value is calculated as sum of investments decreased by the flat sale fee and buy/sell fees.\n",
        "\n",
        "**Note: transfer fees and currency spread will apply as well, but are not included for any model**\n",
        "\n",
        "It will also most likely be impossible to sell on the day that the shares are bought. Might want to redo the code to add 3-4 days"
      ],
      "metadata": {
        "id": "LfJNGU2O1Z_w"
      }
    },
    {
      "cell_type": "markdown",
      "source": [
        "### 2.1.1 Code"
      ],
      "metadata": {
        "id": "ACw1SatH2Ouc"
      }
    },
    {
      "cell_type": "code",
      "source": [
        "def calculateValBuyAndSell():\n",
        "\n",
        "  df['valBuyAndSell'] = 0\n",
        "\n",
        "  # use two helper variables, we'll iterate in reverse order and keep increasing both\n",
        "  # accBuyAndSellInv - accumulated buy&sell cash from this day until the end of data\n",
        "  # accContribInv - accumulated company contributions from this day until the end of data\n",
        "  accBuyAndSellInv = 0\n",
        "  accContribInv = 0\n",
        "\n",
        "  for index in df.index[::-1]: \n",
        "    accBuyAndSellInv += cfg['monthlyInvestmentPostFee'] - cfg['sellFeeFlat'] * df.loc[index, 'SekPln']\n",
        "    accContribInv += df.loc[index, 'companyContribution']   \n",
        "    df.loc[index, 'valBuyAndSell'] = accBuyAndSellInv + accContribInv \n",
        "\n",
        "calculateValBuyAndSell()"
      ],
      "metadata": {
        "id": "1pj49v1T2NzN"
      },
      "execution_count": null,
      "outputs": []
    },
    {
      "cell_type": "markdown",
      "source": [
        "## 2.2 Buy and hold model\n",
        "\n",
        "pros: \n",
        "\n",
        "*   gets a % of company contribution for each stock purchase\n",
        "*   averages buy price over long term\n",
        "*   generally successful long term as long as there is some growth\n",
        "\n",
        "cons: \n",
        "\n",
        "*   volatile end result making it hard to figure out when to sell\n",
        "\n",
        "    note: this is best shown when using final price from 15.02 (buy day) vs 16.02 (last data point)\n",
        "\n",
        "The buy and hold model is the simplest participation approach. It will not sell any of the aquired stock aiming for a super long-term investment.\n",
        "Resulting value is calculated as number of shares purchased from given date until the end of data counted at last known price and divided by SEKPLN.\n",
        "\n",
        "Sell fees are applied.\n",
        "Company contribution is counted."
      ],
      "metadata": {
        "id": "XLmuLXcJWpC8"
      }
    },
    {
      "cell_type": "markdown",
      "source": [
        "### 2.2.1 Code"
      ],
      "metadata": {
        "id": "MDc5KatookRO"
      }
    },
    {
      "cell_type": "code",
      "source": [
        "#TODO: use price from +3-4 days after buy date? [ ]\n",
        "\n",
        "def calculateValBuyAndHold():\n",
        "\n",
        "  df['valBuyAndHold'] = 0\n",
        "\n",
        "  # use two helper variables, we'll iterate in reverse order and keep increasing both\n",
        "  # accSharesInv - accumulated number of shares from this day until the end of data\n",
        "  # accContribInc - accumulated company contributions from this day until the end of data\n",
        "  accSharesInv = 0\n",
        "  accContribInv = 0\n",
        "\n",
        "  # sale prices are last known prices from full data set (16.02) - note the 15% drop\n",
        "  finalPrice = bf.loc[bf.index.max(), 'buySellPrice']\n",
        "  finalSekPlnRate = bf.loc[bf.index.max(), 'SekPln']\n",
        "\n",
        "  for index in df.index[::-1]: \n",
        "    accSharesInv = accSharesInv + df.loc[index, 'buyShares']\n",
        "    accContribInv = accContribInv + df.loc[index, 'companyContribution']\n",
        "    \n",
        "    # TODO: decide if we want to include the fee or not\n",
        "    fee = max(cfg['sellFeeFlat'], cfg['sellFee'] * accSharesInv * finalPrice)\n",
        "    df.loc[index, 'valBuyAndHold'] = (accSharesInv * finalPrice - fee) * finalSekPlnRate + accContribInv \n",
        "    # don't use fee since we're not actually selling\n",
        "    # df.loc[index, 'valBuyAndHold'] = (accSharesInv * finalPrice) * finalSekPlnRate + accContribInv \n",
        "\n",
        "calculateValBuyAndHold()\n"
      ],
      "metadata": {
        "id": "8ThTBAl6XFcb"
      },
      "execution_count": null,
      "outputs": []
    },
    {
      "cell_type": "markdown",
      "source": [
        "### 2.2.2 Plots"
      ],
      "metadata": {
        "id": "FhQsGKknoopa"
      }
    },
    {
      "cell_type": "markdown",
      "source": [
        "2.2.2.1 Long term"
      ],
      "metadata": {
        "id": "i2Ed2Afq67w6"
      }
    },
    {
      "cell_type": "code",
      "source": [
        "# plot\n",
        "data = df.melt(id_vars =['Date'], value_vars = ['valNoInvestment','valBuyAndHold','valBuyAndSell'])\n",
        "alt.Chart(data).mark_line(interpolate='step-after').encode(\n",
        "    x='yearmonth(Date):T',\n",
        "    y='value',\n",
        "    color='variable',\n",
        ").properties(\n",
        "    width=1200,\n",
        "    height=400,\n",
        "    title=\"Buy & Hold vs Buy & Sell vs no investment. 2000-2022\"\n",
        ").interactive()"
      ],
      "metadata": {
        "id": "fLpeSRc_ykNL"
      },
      "execution_count": null,
      "outputs": []
    },
    {
      "cell_type": "markdown",
      "source": [
        "2.2.2.2 Shorter term. Interactive comparison"
      ],
      "metadata": {
        "id": "uv0ZviDg6-HK"
      }
    },
    {
      "cell_type": "code",
      "source": [
        "# plot\n",
        "data = df[cfg['3years']:].copy()\n",
        "data['referenceNoInvestment'] = data['valNoInvestment'] - data['valNoInvestment']\n",
        "data['compToNIBuyAndHold'] = data['valBuyAndHold'] - data['valNoInvestment']\n",
        "data['compToNIBuyAndSell'] = data['valBuyAndSell'] - data['valNoInvestment']\n",
        "\n",
        "pData = data.melt(id_vars =['Date'], value_vars = ['referenceNoInvestment','compToNIBuyAndHold','compToNIBuyAndSell'])\n",
        "alt.Chart(pData).mark_line(interpolate='step-after').encode(\n",
        "    x='yearmonth(Date):T',\n",
        "    y='value',\n",
        "    color='variable',\n",
        ").properties(\n",
        "    width=1200,\n",
        "    height=400,\n",
        "    title=\"Buy & Hold vs Buy & Sell vs no investment. 2019-2022\"\n",
        ").interactive()"
      ],
      "metadata": {
        "id": "-Zaq_snr6NLr"
      },
      "execution_count": null,
      "outputs": []
    },
    {
      "cell_type": "markdown",
      "source": [
        "2.2.2.3 Last 12M"
      ],
      "metadata": {
        "id": "HQatEgLNZUpg"
      }
    },
    {
      "cell_type": "code",
      "source": [
        "# plot\n",
        "\n",
        "pData = data[cfg['1year']:].melt(id_vars =['Date'], value_vars = ['referenceNoInvestment','compToNIBuyAndHold','compToNIBuyAndSell'])\n",
        "alt.Chart(pData).mark_line(interpolate='step-after').encode(\n",
        "    x='yearmonth(Date):T',\n",
        "    y='value',\n",
        "    color='variable',\n",
        ").properties(\n",
        "    width=1200,\n",
        "    height=400,\n",
        "     title=\"Buy & Hold vs Buy & Sell vs no investment as baseline. 2021\"\n",
        ")"
      ],
      "metadata": {
        "id": "YMfVivCkZcQo"
      },
      "execution_count": null,
      "outputs": []
    },
    {
      "cell_type": "markdown",
      "source": [
        "### 2.2.3 Conclusions\n",
        "\n",
        "No surprise that Buy and sell is a better approach than no participation.\n",
        "\n",
        "But short term (1Y or less) or in flat/decresing market conditions (like on 16.02) it can match or beat buy & hold. \n",
        "This approach will work only as long as company contribution is larger than buy/sell/transfer fees. Because of this it's easier to do with larger contributions (rerun the computations for e.g 600 / 1200 and 1800 PLN monthly investments)\n",
        "\n",
        "Buy and hold is still the most effective long term, but then it needs to be compared to other non-ESPP investments - as B&S can potentially provide better overall gains by immediately reinvesting elsewhere. "
      ],
      "metadata": {
        "id": "UMMFoTlk4uby"
      }
    },
    {
      "cell_type": "markdown",
      "source": [
        "## 2.3 Buy and keep for N months\n",
        "\n",
        "pros: \n",
        "\n",
        "*   gets a % of company contribution for each stock purchase\n",
        "*   averages buy price over a given term\n",
        "*   lowers sell and transfer fees by selling less frequently \n",
        "*   generally successful as long as there is not a big decrease\n",
        "*   for low values of N cash is not frozen for a long period of time\n",
        "\n",
        "cons: \n",
        "\n",
        "*   risky if sold during a drop in price\n",
        "*   low gain for short hold periods\n",
        "*   volatile for longer hold periods\n",
        "\n",
        "'Buy and keep for N months' model will aggregate the stock during a predefined time to get full company contribution and then sell regardless of the stock price.\n",
        "\n",
        "This is used as a benchmark and will be tuned in the following models."
      ],
      "metadata": {
        "id": "9BlH8AkVNXtz"
      }
    },
    {
      "cell_type": "markdown",
      "source": [
        "### 2.3.1 Code\n"
      ],
      "metadata": {
        "id": "Loea3tG-T7wY"
      }
    },
    {
      "cell_type": "code",
      "source": [
        "def calculateValBuyAndHoldPeriod(buyAndHoldPeriod):\n",
        "\n",
        "  result = []  \n",
        "  # we'll iterate in normal order, nested loop, multiple times\n",
        "  # there has to be a smarter way to do it, but nevermind\n",
        "  # don't do this at home\n",
        "\n",
        "  for index in df.index[::1]: \n",
        "    # clear helper variables:\n",
        "    # accSharesSinglePeriod - temporarily accumulated number of shares in the buy and hold period\n",
        "    # allAccSharesValue - value of shares in all buy and hold periods\n",
        "    # accContrib - accumulated company contribution\n",
        "    accSharesSinglePeriod = 0\n",
        "    allAccSharesValue = 0\n",
        "    accContrib = 0\n",
        "    iix = 0\n",
        "    \n",
        "    # debug\n",
        "    #loggerList = []\n",
        "    #loggerList2 = []\n",
        "\n",
        "    while index + iix <= df.index.max():\n",
        "      # buy shares and collect contribution on each step\n",
        "      accSharesSinglePeriod += df.loc[index + iix, 'buyShares']\n",
        "      accContrib += cfg['companyContribution']\n",
        "\n",
        "      #'sell' shares at the end of each hold period\n",
        "      if (iix % buyAndHoldPeriod) == (buyAndHoldPeriod - 1):\n",
        "        saleIndex = index + iix\n",
        "        salePrice = df.loc[saleIndex, 'buySellPrice']\n",
        "        saleSekPlnRate = df.loc[saleIndex, 'SekPln']\n",
        "        fee = max(cfg['sellFeeFlat'], cfg['sellFee'] * accSharesSinglePeriod * salePrice)\n",
        "        allAccSharesValue += (accSharesSinglePeriod * salePrice - fee) * saleSekPlnRate \n",
        "        #loggerList2.append((accSharesSinglePeriod * salePrice - fee) * saleSekPlnRate)\n",
        "        accSharesSinglePeriod = 0\n",
        "      \n",
        "      iix += 1\n",
        "    \n",
        "    # calculate the value of the remaining shares if there are any at the end\n",
        "    if accSharesSinglePeriod > 0:\n",
        "      #'sell' shares and count contribution \n",
        "      saleIndex = bf.index.max()\n",
        "      salePrice = bf.loc[saleIndex, 'buySellPrice']\n",
        "      saleSekPlnRate = bf.loc[saleIndex, 'SekPln']\n",
        "      allAccSharesValue += (accSharesSinglePeriod * salePrice) * saleSekPlnRate\n",
        "\n",
        "    # store\n",
        "    result.append(allAccSharesValue + accContrib)\n",
        "\n",
        "  return result"
      ],
      "metadata": {
        "id": "wi8Y-koaOrCE"
      },
      "execution_count": null,
      "outputs": []
    },
    {
      "cell_type": "code",
      "source": [
        "# run calculations for a couple of N \n",
        "df['valBuyAndHold3M'] = calculateValBuyAndHoldPeriod(3)\n",
        "df['valBuyAndHold6M'] = calculateValBuyAndHoldPeriod(6)\n",
        "df['valBuyAndHold12M'] = calculateValBuyAndHoldPeriod(12)\n",
        "df['valBuyAndHold24M'] = calculateValBuyAndHoldPeriod(24)\n",
        "df['valBuyAndHold36M'] = calculateValBuyAndHoldPeriod(36)\n",
        "df['valBuyAndHold48M'] = calculateValBuyAndHoldPeriod(48)\n"
      ],
      "metadata": {
        "id": "fof03ttilQZI"
      },
      "execution_count": null,
      "outputs": []
    },
    {
      "cell_type": "markdown",
      "source": [
        "### 2.3.2 Plots"
      ],
      "metadata": {
        "id": "40RvmgSmUD4Z"
      }
    },
    {
      "cell_type": "markdown",
      "source": [
        "2.3.2.1 Full period (2000-2022)\n"
      ],
      "metadata": {
        "id": "N9YEG4UbUdfq"
      }
    },
    {
      "cell_type": "code",
      "source": [
        "# plot\n",
        "data = df.melt(id_vars =['Date'], value_vars = ['valBuyAndSell','valBuyAndHold','valBuyAndHold3M','valBuyAndHold6M','valBuyAndHold12M','valBuyAndHold24M','valBuyAndHold36M','valBuyAndHold48M'])\n",
        "alt.Chart(data).mark_line(interpolate='step-after').encode(\n",
        "    x='yearmonth(Date):T',\n",
        "    y='value',\n",
        "    color='variable',\n",
        ").properties(\n",
        "    width=1200,\n",
        "    height=400,\n",
        "    title=\"Buy and hold periods vs Buy&Sell. 2000-2022\"\n",
        ").interactive()"
      ],
      "metadata": {
        "id": "-v9EsUaZTECG"
      },
      "execution_count": null,
      "outputs": []
    },
    {
      "cell_type": "markdown",
      "source": [
        "2.3.2.2 Last 5 years (2017-2022)\n"
      ],
      "metadata": {
        "id": "8zePrxp8USqP"
      }
    },
    {
      "cell_type": "code",
      "source": [
        "# plot\n",
        "data = df[cfg['5years']:].copy()\n",
        "data['referenceBuyAndSell'] = data['valBuyAndSell'] - data['valBuyAndSell']\n",
        "data['compToBSBuyAndHold'] = data['valBuyAndHold'] - data['valBuyAndSell']\n",
        "data['compToBSBuyAndHold3M'] = data['valBuyAndHold3M'] - data['valBuyAndSell']\n",
        "data['compToBSBuyAndHold6M'] = data['valBuyAndHold6M'] - data['valBuyAndSell']\n",
        "data['compToBSBuyAndHold12M'] = data['valBuyAndHold12M'] - data['valBuyAndSell']\n",
        "data['compToBSBuyAndHold24M'] = data['valBuyAndHold24M'] - data['valBuyAndSell']\n",
        "data['compToBSBuyAndHold36M'] = data['valBuyAndHold36M'] - data['valBuyAndSell']\n",
        "data['compToBSBuyAndHold48M'] = data['valBuyAndHold48M'] - data['valBuyAndSell']\n",
        "\n",
        "pData = data.melt(id_vars =['Date'], value_vars = ['referenceBuyAndSell','compToBSBuyAndHold','compToBSBuyAndHold3M','compToBSBuyAndHold6M','compToBSBuyAndHold12M','compToBSBuyAndHold24M','compToBSBuyAndHold36M','compToBSBuyAndHold48M'])\n",
        "alt.Chart(pData).mark_line(interpolate='step-after').encode(\n",
        "    x='yearmonth(Date):T',\n",
        "    y='value',\n",
        "    color='variable',\n",
        ").properties(\n",
        "    width=1200,\n",
        "    height=400,\n",
        "    title=\"Buy and hold periods against Buy&Sell reference. 2017-2022\"\n",
        ").interactive()"
      ],
      "metadata": {
        "id": "-dJcjV4ZzKv6"
      },
      "execution_count": null,
      "outputs": []
    },
    {
      "cell_type": "markdown",
      "source": [
        "2.3.2.3 Last 12M"
      ],
      "metadata": {
        "id": "F2qXJfGufqyq"
      }
    },
    {
      "cell_type": "code",
      "source": [
        "pData = data[cfg['1year']:].melt(id_vars =['Date'], value_vars = ['referenceBuyAndSell','compToBSBuyAndHold','compToBSBuyAndHold3M','compToBSBuyAndHold6M','compToBSBuyAndHold12M'])\n",
        "alt.Chart(pData).mark_line(interpolate='step-after').encode(\n",
        "    x='yearmonth(Date):T',\n",
        "    y='value',\n",
        "    color='variable',\n",
        ").properties(\n",
        "    width=1200,\n",
        "    height=400,\n",
        "    title=\"Buy and hold periods against Buy&Sell reference. 2021\"\n",
        ")"
      ],
      "metadata": {
        "id": "sRN0zk-sfvnR"
      },
      "execution_count": null,
      "outputs": []
    },
    {
      "cell_type": "markdown",
      "source": [
        "### 2.3.3 Conclusions\n",
        "\n",
        "For longer investment periods simple Buy and Hold for N months models are almost always better than Buy and Sell. With no additional conditions they are most often too simple and unpredictable, sometimes (rarely!) ending up with worse results if applied at some starting points.\n",
        "\n",
        "However, in recent years, some of them would have performed better than even Buy and Hold. More so, considering the latest drop.\n",
        "\n",
        "3 and 6 month Buy and Holds have consistently performed better than a simple B&S (for all data in long and mid term).\n",
        "However, Buy & Sell was more effective for investments that are closer to the maximum allowed contribution.\n",
        "\n",
        "This means that the following sections will be even more interesting as we're now getting closer to more real-life scenarios."
      ],
      "metadata": {
        "id": "l4s-N1nFEK4e"
      }
    },
    {
      "cell_type": "code",
      "source": [
        "# plot\n",
        "data = df[cfg['3years']:].copy()\n",
        "data['referenceBuyAndHold'] = data['valBuyAndHold'] - data['valBuyAndHold']\n",
        "data['compToBH_BS'] = data['valBuyAndSell'] - data['valBuyAndHold']\n",
        "data['compToBH_BH3M'] = data['valBuyAndHold3M'] - data['valBuyAndHold']\n",
        "data['compToBH_BH6M'] = data['valBuyAndHold6M'] - data['valBuyAndHold']\n",
        "\n",
        "pData = data.melt(id_vars =['Date'], value_vars = ['referenceBuyAndHold','compToBH_BS','compToBH_BH3M','compToBH_BH6M'])\n",
        "alt.Chart(pData).mark_line(interpolate='step-after').encode(\n",
        "    x='yearmonth(Date):T',\n",
        "    y='value',\n",
        "    color='variable',\n",
        ").properties(\n",
        "    width=1200,\n",
        "    height=400,\n",
        "    title=\"Buy and hold periods against Buy&Sell reference. 2017-2022\"\n",
        ")"
      ],
      "metadata": {
        "id": "geOE9FcbarF6"
      },
      "execution_count": null,
      "outputs": []
    },
    {
      "cell_type": "markdown",
      "source": [
        "## 2.4 Buy and keep until X PLN of value\n",
        "\n",
        "pros: \n",
        "\n",
        "*   gets a % of company contribution for each stock purchase\n",
        "*   averages buy price over a period of time\n",
        "*   aims to minimize fees by paying out in predefined parts\n",
        "\n",
        "cons: \n",
        "\n",
        "*   cash is potentially frozen for a long period of time for larger X\n",
        "*   unknown time scope of investment\n",
        "\n",
        "'Buy and keep until X PLN' model will aggregate the stock until defined value in PLN is reached then sell regardless of the stock price.\n",
        "\n"
      ],
      "metadata": {
        "id": "iojt878qV0tu"
      }
    },
    {
      "cell_type": "markdown",
      "source": [
        "### 2.4.1 Code\n"
      ],
      "metadata": {
        "id": "6xKkSJAMWmCA"
      }
    },
    {
      "cell_type": "code",
      "source": [
        "# This version uses all datapoints and allows a sale in between buy days\n",
        "# note: this is surprisingly worse in some cases compared to the old version that checked buy days\n",
        "\n",
        "def calculateValBuyAndHoldUntilValue(targetSellValue):\n",
        "\n",
        "  # precalculate resulting values of first sale and end indices when starting the simulation at any given step  \n",
        "  # ---------------------------------------------------------------------------------------\n",
        "  # clean store\n",
        "  valuesWhenStartingAtN = []\n",
        "  endIxWhenStartingAtN = []\n",
        "\n",
        "  # start at each index in df, need to do a brute-force sale once\n",
        "  for index in df.index[::1]: \n",
        "    # accSharesThisPeriod - shares accumulated if calc period starts @ index\n",
        "    # accContrib - company contribution\n",
        "    accSharesThisPeriod = 0\n",
        "    accContrib = 0\n",
        "    \n",
        "    # calculate as usual, go forward from index, but just until one sale\n",
        "    iix = 0\n",
        "    stop = False\n",
        "\n",
        "    while not stop and (index + iix <= df.index.max()):\n",
        "      # gather shares and contribution on each step\n",
        "      accContrib += cfg['companyContribution']\n",
        "      accSharesThisPeriod += df.loc[index + iix, 'buyShares']\n",
        "\n",
        "      # set the correct lookahead range\n",
        "      bfStart = df.loc[index + iix]['index']\n",
        "      if index + iix == df.index.max():\n",
        "        bfEnd = bf.index.max()\n",
        "      else:\n",
        "        bfEnd = df.loc[index + iix + 1]['index']\n",
        "\n",
        "      # look for a good price between buy days          \n",
        "      for bfIx in range(bfStart, bfEnd):\n",
        "\n",
        "        # calculate with High price each day - we assume the sell order is automated\n",
        "        currSekPlnRate = bf.loc[bfIx, 'SekPln']\n",
        "        currHighPrice = bf.loc[bfIx,'High']\n",
        "        currBuySellPrice = bf.loc[bfIx,'buySellPrice']\n",
        "        targetSharePrice = targetSellValue / currSekPlnRate / accSharesThisPeriod\n",
        "        \n",
        "        if currHighPrice >= targetSharePrice:\n",
        "          # take bigger of the values in case targetSharePrice is too low\n",
        "          salePrice = max(targetSharePrice, currBuySellPrice)         \n",
        "          fee = max(cfg['sellFeeFlat'], cfg['sellFee'] * accSharesThisPeriod * salePrice)\n",
        "\n",
        "          valuesWhenStartingAtN.append((accSharesThisPeriod * salePrice - fee) * currSekPlnRate + accContrib)\n",
        "          endIxWhenStartingAtN.append(index + iix + 1)\n",
        "              \n",
        "          #stop and skip rest of the range since we sold\n",
        "          stop = True\n",
        "          break\n",
        "      \n",
        "      iix += 1\n",
        "    \n",
        "    # add the value of shares remaining at the end, skip fee (not selling at this point)\n",
        "    if not stop and accSharesThisPeriod > 0:\n",
        "      #'sell' shares and count contribution \n",
        "      saleIndex = bf.index.max()\n",
        "      salePrice = bf.loc[saleIndex, 'buySellPrice']\n",
        "      saleSekPlnRate = bf.loc[saleIndex, 'SekPln']\n",
        "      valuesWhenStartingAtN.append(accSharesThisPeriod * salePrice * saleSekPlnRate + accContrib)\n",
        "      endIxWhenStartingAtN.append(index + iix)\n",
        "\n",
        "  result = []\n",
        "  # do the actual calculations by traversing the preresults\n",
        "  # ---------------------------------------------------------------------------------------\n",
        "  # start at each index in df, need to do it once\n",
        "  for index in df.index[::1]: \n",
        "    # accValueAtIndex - sum of precalculated values\n",
        "    accValueAtIndex = 0\n",
        "    iix = index\n",
        "    while (iix <= df.index.max()):\n",
        "      accValueAtIndex += valuesWhenStartingAtN[iix]\n",
        "      iix = endIxWhenStartingAtN[iix]\n",
        "    \n",
        "    result.append(accValueAtIndex)\n",
        "\n",
        "  return result"
      ],
      "metadata": {
        "id": "SYPzETVENPzR"
      },
      "execution_count": null,
      "outputs": []
    },
    {
      "cell_type": "code",
      "source": [
        "# calculate for some predefined values\n",
        "df['valBuyAndHold5K'] = calculateValBuyAndHoldUntilValue(5000)\n",
        "df['valBuyAndHold10K'] = calculateValBuyAndHoldUntilValue(10000)\n",
        "df['valBuyAndHold20K'] = calculateValBuyAndHoldUntilValue(20000)\n",
        "df['valBuyAndHold40K'] = calculateValBuyAndHoldUntilValue(40000)\n",
        "df['valBuyAndHold60K'] = calculateValBuyAndHoldUntilValue(60000)\n",
        "df['valBuyAndHold100K'] = calculateValBuyAndHoldUntilValue(100000)"
      ],
      "metadata": {
        "id": "DqfWQeOmXb_e"
      },
      "execution_count": null,
      "outputs": []
    },
    {
      "cell_type": "markdown",
      "source": [
        "### 2.4.2 Plots"
      ],
      "metadata": {
        "id": "VjAQTk2uksRv"
      }
    },
    {
      "cell_type": "markdown",
      "source": [
        "2.4.2.1 Full period (2000-2022)"
      ],
      "metadata": {
        "id": "1XnxotpEfJi8"
      }
    },
    {
      "cell_type": "code",
      "source": [
        "# plot\n",
        "data = df.melt(id_vars =['Date'], value_vars = ['valBuyAndSell','valBuyAndHold','valBuyAndHold5K','valBuyAndHold10K','valBuyAndHold20K','valBuyAndHold40K','valBuyAndHold60K','valBuyAndHold100K'])\n",
        "alt.Chart(data).mark_line(interpolate='step-after').encode(\n",
        "    x='yearmonth(Date):T',\n",
        "    y='value',\n",
        "    color='variable',\n",
        ").properties(\n",
        "    width=1200,\n",
        "    height=400,\n",
        "    title=\"Buy until X value vs B&S. 2000-2022\"\n",
        ").interactive()"
      ],
      "metadata": {
        "id": "QC2puIaHfJUl"
      },
      "execution_count": null,
      "outputs": []
    },
    {
      "cell_type": "markdown",
      "source": [
        "2.3.2.2 Last 5 years (2017-2022)"
      ],
      "metadata": {
        "id": "Hs-HKbYfigkq"
      }
    },
    {
      "cell_type": "code",
      "source": [
        "# plot\n",
        "data = df[cfg['5years']:].copy()\n",
        "data['referenceBuyAndSell'] = data['valBuyAndSell'] - data['valBuyAndSell']\n",
        "data['compToBSBuyAndHold'] = data['valBuyAndHold'] - data['valBuyAndSell']\n",
        "data['compToBSBuyAndHold5K'] = data['valBuyAndHold5K'] - data['valBuyAndSell']\n",
        "data['compToBSBuyAndHold10K'] = data['valBuyAndHold10K'] - data['valBuyAndSell']\n",
        "data['compToBSBuyAndHold20K'] = data['valBuyAndHold20K'] - data['valBuyAndSell']\n",
        "data['compToBSBuyAndHold40K'] = data['valBuyAndHold40K'] - data['valBuyAndSell']\n",
        "data['compToBSBuyAndHold60K'] = data['valBuyAndHold60K'] - data['valBuyAndSell']\n",
        "data['compToBSBuyAndHold100K'] = data['valBuyAndHold100K'] - data['valBuyAndSell']\n",
        "\n",
        "pData = data.melt(id_vars =['Date'], value_vars = ['referenceBuyAndSell','compToBSBuyAndHold','compToBSBuyAndHold5K','compToBSBuyAndHold10K','compToBSBuyAndHold20K','compToBSBuyAndHold40K','compToBSBuyAndHold60K','compToBSBuyAndHold100K'])\n",
        "alt.Chart(pData).mark_line(interpolate='step-after').encode(\n",
        "    x='yearmonth(Date):T',\n",
        "    y='value',\n",
        "    color='variable',\n",
        ").properties(\n",
        "    width=1200,\n",
        "    height=400,\n",
        "    title=\"Buy until X value against Buy&Sell reference. 2017-2022\"\n",
        ").interactive()"
      ],
      "metadata": {
        "id": "NdS1Z0zbik5q"
      },
      "execution_count": null,
      "outputs": []
    },
    {
      "cell_type": "markdown",
      "source": [
        "2.4.2.3 Last 12M"
      ],
      "metadata": {
        "id": "KpRTFlWClqch"
      }
    },
    {
      "cell_type": "code",
      "source": [
        "pData = data[cfg['1year']:].melt(id_vars =['Date'], value_vars = ['referenceBuyAndSell','compToBSBuyAndHold','compToBSBuyAndHold5K','compToBSBuyAndHold10K','compToBSBuyAndHold20K'])\n",
        "alt.Chart(pData).mark_line(interpolate='step-after').encode(\n",
        "    x='yearmonth(Date):T',\n",
        "    y='value',\n",
        "    color='variable',\n",
        ").properties(\n",
        "    width=1200,\n",
        "    height=400,\n",
        "    title=\"Buy until X value against Buy&Sell reference. 2021\"\n",
        ")"
      ],
      "metadata": {
        "id": "GxRPKNTmltSg"
      },
      "execution_count": null,
      "outputs": []
    },
    {
      "cell_type": "markdown",
      "source": [
        "## 2.5 Buy and keep until X% increase in value\n",
        "\n",
        "pros: \n",
        "\n",
        "*   gets a % of company contribution for each stock purchase\n",
        "*   at most X% of return long term as long as there is some growth\n",
        "\n",
        "cons: \n",
        "\n",
        "*   cash is potentially frozen for a long period of time in bad market conditions\n",
        "*   might miss better results if selling too early\n",
        "*   unknown time scope of investment\n",
        "\n",
        "'Buy and keep until X% increase of value' model will aggregate the stock until a defined % increase in value is reached then sell at needed price when possible.\n"
      ],
      "metadata": {
        "id": "dAeEftM2o7gf"
      }
    },
    {
      "cell_type": "markdown",
      "source": [
        "### 2.5.1 Code"
      ],
      "metadata": {
        "id": "2KBShF_xwGIF"
      }
    },
    {
      "cell_type": "code",
      "source": [
        "# This version uses all datapoints which allows a sale in between buy days\n",
        "# note: it's also 'worse' in most cases because it sets a price to match the % increase and sells as soon as possible\n",
        "# previous version checked only on buy days and sold when the % change was over the threshold\n",
        "\n",
        "def calculateValBuyAndHoldUntilPercentIncrease(targetPercentIncrease):\n",
        "\n",
        "  # precalculate resulting values of first sale and end indices when starting the simulation at any given step  \n",
        "  # ---------------------------------------------------------------------------------------\n",
        "  # clean store\n",
        "  valuesWhenStartingAtN = []\n",
        "  endIxWhenStartingAtN = []\n",
        "\n",
        "  for index in df.index[::1]: \n",
        "    # store number of bought shares and money spent on them - needed for avgPrice\n",
        "    # accContrib - count company contribution\n",
        "    accSharesThisPeriod = 0\n",
        "    accMoneySpentThisPeriod = 0    \n",
        "    accContrib = 0\n",
        "    \n",
        "    # same as before, go forward starting from index, but just until one sale is possible\n",
        "    iix = 0\n",
        "    stop = False\n",
        "\n",
        "    while not stop and (index + iix <= df.index.max()):\n",
        "      # gather shares and contribution on each step\n",
        "      accContrib += cfg['companyContribution']\n",
        "      accSharesThisPeriod += df.loc[index + iix, 'buyShares']\n",
        "      accMoneySpentThisPeriod += cfg['monthlyInvestmentPostFee']\n",
        "\n",
        "      # recalculate the average and target share prices in pln (+X %)\n",
        "      avgPricePln = accMoneySpentThisPeriod / accSharesThisPeriod \n",
        "      targetSharePricePln = (1 + targetPercentIncrease / 100) * avgPricePln\n",
        "\n",
        "      # set the correct lookahead range\n",
        "      bfStart = df.loc[index + iix]['index']\n",
        "      if index + iix == df.index.max():\n",
        "        bfEnd = bf.index.max()\n",
        "      else:\n",
        "        bfEnd = df.loc[index + iix + 1]['index']\n",
        "\n",
        "      # look for a good price between buy days          \n",
        "      for bfIx in range(bfStart, bfEnd):\n",
        "        # calculate target price in SEK and compare with High price each day - we assume the sell order is automated\n",
        "        currSekPlnRate = bf.loc[bfIx, 'SekPln']        \n",
        "        currHighPrice = bf.loc[bfIx,'High']\n",
        "        targetSharePriceSek = targetSharePricePln / currSekPlnRate\n",
        "      \n",
        "        # sell if targetSharePriceSek is reached, use this price for counting value\n",
        "        if currHighPrice >= targetSharePriceSek:\n",
        "          fee = max(cfg['sellFeeFlat'], cfg['sellFee'] * accSharesThisPeriod * targetSharePriceSek)\n",
        "          valuesWhenStartingAtN.append((accSharesThisPeriod * targetSharePriceSek - fee) * currSekPlnRate + accContrib)\n",
        "          # set next df ix as next starting point\n",
        "          endIxWhenStartingAtN.append(index + iix + 1)\n",
        "\n",
        "          #skip rest of the range since we sold, and stop the iteration for iix as well\n",
        "          stop = True\n",
        "          break\n",
        "      \n",
        "      iix += 1\n",
        "    \n",
        "    # if we have not sold for some reason (end of table or too high % req)\n",
        "    # store the value of shares remaining at the end, skip fee (not selling at this point)\n",
        "    if not stop and accSharesThisPeriod > 0:\n",
        "      #'sell' shares and count contribution \n",
        "      saleIndex = bf.index.max()\n",
        "      salePrice = bf.loc[saleIndex, 'buySellPrice']\n",
        "      saleSekPlnRate = bf.loc[saleIndex, 'SekPln']\n",
        "      valuesWhenStartingAtN.append(accSharesThisPeriod * salePrice * saleSekPlnRate + accContrib)\n",
        "      endIxWhenStartingAtN.append(index + iix)\n",
        "\n",
        "  result = []\n",
        "  # do the actual calculations by traversing the preresults\n",
        "  # ---------------------------------------------------------------------------------------\n",
        "  # start at each index in df\n",
        "  for index in df.index[::1]: \n",
        "    # accValueAtIndex - sum of precalculated values\n",
        "    accValueAtIndex = 0\n",
        "    iix = index\n",
        "    # and value and move to the previously calculated next starting ix\n",
        "    while (iix <= df.index.max()):\n",
        "      accValueAtIndex += valuesWhenStartingAtN[iix]\n",
        "      iix = endIxWhenStartingAtN[iix]\n",
        "    # store the result when done\n",
        "    result.append(accValueAtIndex)\n",
        "\n",
        "  return result"
      ],
      "metadata": {
        "id": "KSc8OAR4_G2S"
      },
      "execution_count": null,
      "outputs": []
    },
    {
      "cell_type": "code",
      "source": [
        "# calculate for some predefined values of X\n",
        "# even with thie optimization this might take 1 min because of the last 2 calculations\n",
        "df['valBuyAndHold5Perc'] = calculateValBuyAndHoldUntilPercentIncrease(5)\n",
        "df['valBuyAndHold7Perc'] = calculateValBuyAndHoldUntilPercentIncrease(7)\n",
        "df['valBuyAndHold9Perc'] = calculateValBuyAndHoldUntilPercentIncrease(9)\n",
        "df['valBuyAndHold15Perc'] = calculateValBuyAndHoldUntilPercentIncrease(15)\n",
        "df['valBuyAndHold25Perc'] = calculateValBuyAndHoldUntilPercentIncrease(25)\n",
        "df['valBuyAndHold50Perc'] = calculateValBuyAndHoldUntilPercentIncrease(50)\n",
        "df['valBuyAndHold66Perc'] = calculateValBuyAndHoldUntilPercentIncrease(66)"
      ],
      "metadata": {
        "id": "SvFS6stRsCQh"
      },
      "execution_count": null,
      "outputs": []
    },
    {
      "cell_type": "markdown",
      "source": [
        "### 2.5.2 Plots\n"
      ],
      "metadata": {
        "id": "NNJc7DvhxjmD"
      }
    },
    {
      "cell_type": "markdown",
      "source": [
        "2.5.2.1 Full period (2000-2022)"
      ],
      "metadata": {
        "id": "9E1fWTDawWNr"
      }
    },
    {
      "cell_type": "code",
      "source": [
        "# plot\n",
        "data = df.melt(id_vars =['Date'], value_vars = ['valBuyAndSell','valBuyAndHold','valBuyAndHold9Perc','valBuyAndHold5Perc','valBuyAndHold7Perc','valBuyAndHold15Perc','valBuyAndHold25Perc','valBuyAndHold50Perc','valBuyAndHold66Perc'])\n",
        "alt.Chart(data).mark_line(interpolate='step-after').encode(\n",
        "    x='yearmonth(Date):T',\n",
        "    y='value',\n",
        "    color='variable',\n",
        ").properties(\n",
        "    width=1200,\n",
        "    height=400,\n",
        "    title=\"Buy until +X% vs B&S. 2000-2022\"\n",
        ")"
      ],
      "metadata": {
        "id": "_B5YqaNDwbNb"
      },
      "execution_count": null,
      "outputs": []
    },
    {
      "cell_type": "markdown",
      "source": [
        "Note: Hold until +50% is surprisingly effective in the past of the dataset, also if started closer to present (until 2015 or in H1 2018)"
      ],
      "metadata": {
        "id": "oeuGlCQYkZNf"
      }
    },
    {
      "cell_type": "markdown",
      "source": [
        "2.5.2.2 Last 5 years (2017-2022)\n"
      ],
      "metadata": {
        "id": "suoPCAj1wXhb"
      }
    },
    {
      "cell_type": "code",
      "source": [
        "# plot\n",
        "data = df[cfg['5years']:].copy()\n",
        "data['referenceBuyAndSell'] = data['valBuyAndSell'] - data['valBuyAndSell']\n",
        "data['compToBSBuyAndHold'] = data['valBuyAndHold'] - data['valBuyAndSell']\n",
        "data['compToBSBuyAndHold5Perc'] = data['valBuyAndHold5Perc'] - data['valBuyAndSell']\n",
        "data['compToBSBuyAndHold7Perc'] = data['valBuyAndHold7Perc'] - data['valBuyAndSell']\n",
        "data['compToBSBuyAndHold9Perc'] = data['valBuyAndHold9Perc'] - data['valBuyAndSell']\n",
        "data['compToBSBuyAndHold15Perc'] = data['valBuyAndHold15Perc'] - data['valBuyAndSell']\n",
        "data['compToBSBuyAndHold25Perc'] = data['valBuyAndHold25Perc'] - data['valBuyAndSell']\n",
        "data['compToBSBuyAndHold50Perc'] = data['valBuyAndHold50Perc'] - data['valBuyAndSell']\n",
        "data['compToBSBuyAndHold66Perc'] = data['valBuyAndHold66Perc'] - data['valBuyAndSell']\n",
        "\n",
        "pData = data.melt(id_vars =['Date'], value_vars = ['referenceBuyAndSell','compToBSBuyAndHold','compToBSBuyAndHold9Perc','compToBSBuyAndHold5Perc','compToBSBuyAndHold7Perc','compToBSBuyAndHold15Perc','compToBSBuyAndHold25Perc','compToBSBuyAndHold50Perc','compToBSBuyAndHold66Perc'])\n",
        "alt.Chart(pData).mark_line(interpolate='step-after').encode(\n",
        "    x='yearmonth(Date):T',\n",
        "    y='value',\n",
        "    color='variable',\n",
        ").properties(\n",
        "    width=1200,\n",
        "    height=400,\n",
        "    title=\"Buy until +X% vs B&S. 2017-2022\"\n",
        ").interactive()"
      ],
      "metadata": {
        "id": "CnU6rm1IwrwD"
      },
      "execution_count": null,
      "outputs": []
    },
    {
      "cell_type": "markdown",
      "source": [
        "2.5.2.3 Last 12M"
      ],
      "metadata": {
        "id": "I9pG3xWroZed"
      }
    },
    {
      "cell_type": "code",
      "source": [
        "pData = data[cfg['1year']:].melt(id_vars =['Date'], value_vars = ['referenceBuyAndSell','compToBSBuyAndHold','compToBSBuyAndHold9Perc','compToBSBuyAndHold5Perc','compToBSBuyAndHold7Perc','compToBSBuyAndHold15Perc'])\n",
        "alt.Chart(pData).mark_line(interpolate='step-after').encode(\n",
        "    x='yearmonth(Date):T',\n",
        "    y='value',\n",
        "    color='variable',\n",
        ").properties(\n",
        "    width=1200,\n",
        "    height=400,\n",
        "    title=\"Buy until +X% vs B&S. 2021\"\n",
        ")"
      ],
      "metadata": {
        "id": "A6IIRRlKoc4f"
      },
      "execution_count": null,
      "outputs": []
    },
    {
      "cell_type": "markdown",
      "source": [
        "### 2.5.3 Conclusions\n",
        "\n",
        "Now this seems like a fun model. It takes a while to calculate, and seems that lower values of X% are quite easy to achieve - hence the 'linear' results for most of the run.\n",
        "\n",
        "For larger Xs there are two outcomes - either it's achievable and it ends up better than Buy & Hold at a specific start date, or it's not achievable and it becomes Buy & Hold.\n",
        "\n",
        "3, 5 and 7% were good candidates in 2021 giving decent results.\n",
        "9% was even better in H2 21, but not possible when starting in H1."
      ],
      "metadata": {
        "id": "M-flfCwFwhdK"
      }
    },
    {
      "cell_type": "markdown",
      "source": [
        "## 2.6 Base for 'smart' scenarios\n",
        "\n",
        "This model is an attempt to combine several approaches and to use the whole dataset including the stock prices between the buy dates.\n",
        "\n",
        "In the smart scenario we'll have a set of configurable rules to decide when to sell:\n",
        "*   hold for at least X buy periods (to reduce fees)\n",
        "*   AND don't sell until the price is X% higher than average buy price\n",
        "*   OR sell immediately if the price is X% higher than the average buy price\n",
        "\n",
        "This way it'll be a good base to add sell-stop or other approaches.\n",
        "\n",
        "Narrowing down the simulation to a 5Y period to speed up calculations.\n",
        "Some good values:\n",
        "\n",
        "4 1 5\n",
        "\n",
        "4 0 8\n",
        "\n",
        "4 0 8\n",
        "\n",
        "6 -2 10"
      ],
      "metadata": {
        "id": "Nh8cv5vVgPUW"
      }
    },
    {
      "cell_type": "code",
      "source": [
        "#@title Modify default values:\n",
        "\n",
        "sellCfg = {\n",
        "}\n",
        "\n",
        "def storeSellConfig():\n",
        "  #@markdown Minimum period to aggregate the stock before selling [months]\n",
        "  minHoldPeriod = 4 #@param {type:\"slider\", min:0, max:24, step:1}\n",
        "\n",
        "  #@markdown Minimum gain to allow a sale [%]\n",
        "  minimumGainThr = 6 #@param {type:\"slider\", min:-10, max:50, step:1}\n",
        "\n",
        "  #@markdown Threshold for immediate sell (override of holdPeriod)\n",
        "  immediateSaleThr = 7 #@param {type:\"slider\", min:1, max:50, step:1}\n",
        "\n",
        "  sellCfg['minHoldPeriod'] = minHoldPeriod\n",
        "  sellCfg['minimumGainThr'] = (1 + minimumGainThr / 100)\n",
        "  sellCfg['immediateSaleThr'] = (1 + immediateSaleThr / 100)\n",
        "\n",
        "storeSellConfig()"
      ],
      "metadata": {
        "id": "zAnF2bUVgOcl"
      },
      "execution_count": null,
      "outputs": []
    },
    {
      "cell_type": "markdown",
      "source": [
        "### 2.6.1 Code"
      ],
      "metadata": {
        "id": "QfHohM_slHOO"
      }
    },
    {
      "cell_type": "code",
      "source": [
        "# TODO: rework like 2.4 and 2.5 to use a precalculated table to speed things up and allow for a full scope of calculations\n",
        "\n",
        "# store number of sale types, used for tuning\n",
        "intraRangeSales = 0\n",
        "immediateSales = 0\n",
        "holdAndGrowthRule = 0\n",
        "\n",
        "result = []\n",
        "\n",
        "# starting points are taken from a subset of df (last 5 years)\n",
        "for index in df.index[cfg['5years']::1]: \n",
        "  # clear helper variables:\n",
        "  # accSharesThisPeriod - shares accumulated in current period\n",
        "  # accMoneySpentSinglePeriod - own investment in current period\n",
        "  # accAllSoldSharesValue - value of shares sold in all periods\n",
        "  # accContrib - company contribution\n",
        "  accSharesThisPeriod = 0\n",
        "  accMoneySpentSinglePeriod = 0\n",
        "  accAllSoldSharesValue = 0\n",
        "  accContrib = 0\n",
        "  buyPeriodsSinceLastSale = 0\n",
        "  \n",
        "  iix = 0\n",
        "\n",
        "  while index + iix <= df.index.max():\n",
        "    # gather shares and contribution on each step, count spending\n",
        "    buyPeriodsSinceLastSale += 1\n",
        "    accContrib += cfg['companyContribution']\n",
        "    accSharesThisPeriod += df.loc[index + iix, 'buyShares']\n",
        "    accMoneySpentSinglePeriod += cfg['monthlyInvestmentPostFee'] / df.loc[index + iix, 'SekPln']\n",
        "    \n",
        "    # precalc so we compare only share prices in the inner loop to speed this up\n",
        "    avgSharePrice = accMoneySpentSinglePeriod / accSharesThisPeriod\n",
        "\n",
        "    # set the correct lookahead range\n",
        "    bfStart = df.loc[index + iix]['index']\n",
        "    if index + iix == df.index.max():\n",
        "      bfEnd = bf.index.max()\n",
        "    else:\n",
        "      bfEnd = df.loc[index + iix + 1]['index']\n",
        "#lg print(\"st/stp: \", bfStart, bfEnd)\n",
        "    \n",
        "    for bfIx in range(bfStart, bfEnd):\n",
        "      # compare with High price each day - we assume the sell order is automated\n",
        "      maxSalePrice = bf.loc[bfIx,'High']\n",
        "      maxPercentChange = maxSalePrice / avgSharePrice\n",
        "      \n",
        "      sellAllowed = False\n",
        "        \n",
        "      # check for immediate sale\n",
        "      if maxPercentChange >= sellCfg['immediateSaleThr']:\n",
        "        sellAllowed = True\n",
        "        immediateSales += 1\n",
        "        # we don't take the highest price but the one that was set in the order\n",
        "        salePrice = avgSharePrice * sellCfg['immediateSaleThr']\n",
        "        #lg saleType = \"immediate\"\n",
        "\n",
        "      # check for hold period and minimumGain:\n",
        "      elif buyPeriodsSinceLastSale >= sellCfg['minHoldPeriod']:\n",
        "        if maxPercentChange >= sellCfg['minimumGainThr']:\n",
        "          sellAllowed = True\n",
        "          holdAndGrowthRule += 1\n",
        "          # same here we take the normal buySell price (usually the average)\n",
        "          salePrice = avgSharePrice * sellCfg['minimumGainThr']\n",
        "          #lg saleType = \"minGain\"\n",
        "\n",
        "      if sellAllowed:\n",
        "        #lg print(\"sell price: \", round(salePrice,2) , \"sale type: \", saleType, \"sell bfix:\", bfIx)\n",
        "\n",
        "        intraRangeSales += 1\n",
        "        #sell shares\n",
        "        fee = max(cfg['sellFeeFlat'], cfg['sellFee'] * accSharesThisPeriod * salePrice)\n",
        "        saleSekPlnRate = bf.loc[bfIx, 'SekPln']\n",
        "        accAllSoldSharesValue += (accSharesThisPeriod * salePrice - fee) * saleSekPlnRate \n",
        "        accSharesThisPeriod = 0\n",
        "        accMoneySpentSinglePeriod = 0\n",
        "        buyPeriodsSinceLastSale = 0\n",
        "        #and skip rest of the range since we sold\n",
        "        break\n",
        "    \n",
        "    iix += 1\n",
        "  \n",
        "  # add the value of shares remaining at the end, skip fee (not selling at this point)\n",
        "  if accSharesThisPeriod > 0:\n",
        "    #'sell' shares and count contribution \n",
        "    saleIndex = bf.index.max()\n",
        "    salePrice = bf.loc[saleIndex, 'buySellPrice']\n",
        "    saleSekPlnRate = bf.loc[saleIndex, 'SekPln']\n",
        "    accAllSoldSharesValue += accSharesThisPeriod * salePrice * saleSekPlnRate\n",
        "\n",
        "  df.loc[index, 'valSmartScenario'] = accAllSoldSharesValue + accContrib\n",
        "\n",
        "print(\"all intra range sales:\", intraRangeSales)\n",
        "print(\"number of immediateSales:\", immediateSales)\n",
        "print(\"number of hold and growth sales:\",holdAndGrowthRule)"
      ],
      "metadata": {
        "id": "aZlWJiUblGOw"
      },
      "execution_count": null,
      "outputs": []
    },
    {
      "cell_type": "markdown",
      "source": [
        "### 2.6.2 Plots"
      ],
      "metadata": {
        "id": "qcmebVl1oEfs"
      }
    },
    {
      "cell_type": "code",
      "source": [
        "# plot\n",
        "data = df[cfg['5years']:].copy()\n",
        "data['referenceBuyAndSell'] = data['valBuyAndSell'] - data['valBuyAndSell']\n",
        "data['compToBSBuyAndHold'] = data['valBuyAndHold'] - data['valBuyAndSell']\n",
        "data['compToBSSmartScenario'] = data['valSmartScenario'] - data['valBuyAndSell']\n",
        "data['compToBSBuyAnd7Perc'] = data['valBuyAndHold7Perc'] - data['valBuyAndSell']\n",
        "data['compToBSBuyAndHold10K'] = data['valBuyAndHold10K'] - data['valBuyAndSell']\n",
        "\n",
        "pData = data.melt(id_vars =['Date'], value_vars = ['referenceBuyAndSell','compToBSBuyAndHold','compToBSSmartScenario','compToBSBuyAndHold10K','compToBSBuyAnd7Perc'])\n",
        "alt.Chart(pData).mark_line(interpolate='step-after').encode(\n",
        "    x='yearmonth(Date):T',\n",
        "    y='value',\n",
        "    color='variable',\n",
        ").properties(\n",
        "    width=1200,\n",
        "    height=400,\n",
        "    title=\"Smart scenario 2017-2022\"\n",
        ")"
      ],
      "metadata": {
        "id": "qEOuM0bNqG14"
      },
      "execution_count": null,
      "outputs": []
    },
    {
      "cell_type": "code",
      "source": [
        "# plot\n",
        "pData = data[cfg['3years']:].melt(id_vars =['Date'], value_vars = ['referenceBuyAndSell','compToBSBuyAndHold','compToBSSmartScenario','compToBSBuyAndHold10K','compToBSBuyAnd7Perc'])\n",
        "alt.Chart(pData).mark_line(interpolate='step-after').encode(\n",
        "    x='yearmonth(Date):T',\n",
        "    y='value',\n",
        "    color='variable',\n",
        ").properties(\n",
        "    width=1200,\n",
        "    height=400,\n",
        "    title=\"Smart scenario 2021\"\n",
        ").interactive()"
      ],
      "metadata": {
        "id": "UBLUNo8BKL0n"
      },
      "execution_count": null,
      "outputs": []
    },
    {
      "cell_type": "code",
      "source": [
        "# plot\n",
        "pData = data[cfg['1year']:].melt(id_vars =['Date'], value_vars = ['referenceBuyAndSell','compToBSBuyAndHold','compToBSSmartScenario','compToBSBuyAndHold10K','compToBSBuyAnd7Perc'])\n",
        "alt.Chart(pData).mark_line(interpolate='step-after').encode(\n",
        "    x='yearmonth(Date):T',\n",
        "    y='value',\n",
        "    color='variable',\n",
        ").properties(\n",
        "    width=1200,\n",
        "    height=400,\n",
        "    title=\"Smart scenario 2021\"\n",
        ").interactive()"
      ],
      "metadata": {
        "id": "fZqhdYtLqcZh"
      },
      "execution_count": null,
      "outputs": []
    },
    {
      "cell_type": "markdown",
      "source": [
        "# 3. Summary"
      ],
      "metadata": {
        "id": "SX3IeNvxkB2o"
      }
    },
    {
      "cell_type": "code",
      "source": [
        "# results of short term (2Y) of smart model:\n",
        "data['compToBSSmartScenario'].describe()"
      ],
      "metadata": {
        "id": "qMwI1Qo_by0j"
      },
      "execution_count": null,
      "outputs": []
    },
    {
      "cell_type": "code",
      "source": [
        "# results of short term (1Y) of all models. Sorted:\n",
        "df[cfg['1year']:][df.columns[6:]].describe().transpose().sort_values(by=['75%'],ascending=False)"
      ],
      "metadata": {
        "id": "FiZ35HxujyTa"
      },
      "execution_count": null,
      "outputs": []
    },
    {
      "cell_type": "markdown",
      "source": [
        "# Random visualizations and checkers"
      ],
      "metadata": {
        "id": "fjwoKOboLitG"
      }
    },
    {
      "cell_type": "code",
      "source": [
        "alt.data_transformers.disable_max_rows()\n",
        "\n",
        "base = alt.Chart(bf.reset_index()).encode(x='Date').properties(\n",
        ")\n",
        "\n",
        "alt.layer(\n",
        "    base.mark_line(color='orange').encode(y='SekPln'),\n",
        ").properties(\n",
        "    width=1200,\n",
        "    height=200,\n",
        "    title=\"SekPln rate from 2000\"\n",
        ").interactive()"
      ],
      "metadata": {
        "id": "DOqYtKgwgEhu"
      },
      "execution_count": null,
      "outputs": []
    },
    {
      "cell_type": "code",
      "source": [
        "base = alt.Chart(bf.reset_index()).encode(x='Date').properties(\n",
        ")\n",
        "\n",
        "alt.layer(\n",
        "    base.mark_line(interpolate='step-after',color='orange').encode(y='buySellPrice'),\n",
        ").properties(\n",
        "    width=1200,\n",
        "    height=400,\n",
        "    title=\"ERIC-B avg stock price. Interactive\"\n",
        ").interactive()"
      ],
      "metadata": {
        "id": "R48mzEjYLjD0"
      },
      "execution_count": null,
      "outputs": []
    },
    {
      "cell_type": "code",
      "source": [
        "# plot\n",
        "bf['dailyPriceRange'] = bf['High'] - bf['Low']\n",
        "bf['dailyPriceDiff'] = bf['Close'] - bf['Open']\n",
        "\n",
        "pData = bf.melt(id_vars =['Date'], value_vars = ['dailyPriceRange','dailyPriceDiff'])\n",
        "alt.Chart(pData).mark_line(interpolate='step-after').encode(\n",
        "    x='Date',\n",
        "    y='value',\n",
        "    color='variable',\n",
        ").properties(\n",
        "    width=1200,\n",
        "    height=400,\n",
        "    title=\"Daily price range and price difference. Interactive\"\n",
        ").interactive()"
      ],
      "metadata": {
        "id": "xodjJ-vlFcyZ"
      },
      "execution_count": null,
      "outputs": []
    }
  ]
}